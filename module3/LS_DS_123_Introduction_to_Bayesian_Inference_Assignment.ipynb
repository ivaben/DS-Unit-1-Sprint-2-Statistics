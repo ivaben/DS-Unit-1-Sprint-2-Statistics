{
  "nbformat": 4,
  "nbformat_minor": 0,
  "metadata": {
    "colab": {
      "name": "LS_DS_123_Introduction_to_Bayesian_Inference_Assignment.ipynb",
      "provenance": [],
      "include_colab_link": true
    },
    "kernelspec": {
      "name": "python3",
      "display_name": "Python 3"
    }
  },
  "cells": [
    {
      "cell_type": "markdown",
      "metadata": {
        "id": "view-in-github",
        "colab_type": "text"
      },
      "source": [
        "<a href=\"https://colab.research.google.com/github/ivaben/DS-Unit-1-Sprint-2-Statistics/blob/master/module3/LS_DS_123_Introduction_to_Bayesian_Inference_Assignment.ipynb\" target=\"_parent\"><img src=\"https://colab.research.google.com/assets/colab-badge.svg\" alt=\"Open In Colab\"/></a>"
      ]
    },
    {
      "cell_type": "markdown",
      "metadata": {
        "id": "H7OLbevlbd_Z",
        "colab_type": "text"
      },
      "source": [
        "# Lambda School Data Science Module 123\n",
        "\n",
        "## Introduction to Bayesian Inference\n",
        "\n",
        "\n"
      ]
    },
    {
      "cell_type": "markdown",
      "metadata": {
        "id": "P-DzzRk5bf0z",
        "colab_type": "text"
      },
      "source": [
        "## Assignment - Code it up!\n",
        "\n",
        "We used pure math to apply Bayes Theorem to drug tests. Now write Python code to reproduce the results! This is purposefully open ended - you'll have to think about how you should represent probabilities and events. You can and should look things up.\n",
        "\n",
        "Specific goals/targets:\n",
        "\n",
        "### 1) Write a function \n",
        "\n",
        "`def prob_drunk_given_positive(prob_drunk_prior, false_positive_rate):` \n",
        "\n",
        "You should only truly need these two values in order to apply Bayes Theorem. In this example, imagine that individuals are taking a breathalyzer test with an 8% false positive rate, a 100% true positive rate, and that our prior belief about drunk driving in the population is 1/1000. \n",
        " - What is the probability that a person is drunk after one positive breathalyzer test?\n",
        " - What is the probability that a person is drunk after two positive breathalyzer tests?\n",
        " - How many positive breathalyzer tests are needed in order to have a probability that's greater than 95% that a person is drunk beyond the legal limit?\n",
        "\n",
        "### 2) Explore `scipy.stats.bayes_mvs`  \n",
        "Read its documentation, and experiment with it on data you've tested in other ways earlier this week.\n",
        " - Create a visualization comparing the results of a Bayesian approach to a traditional/frequentist approach. (with a large sample size they should look close to identical, however, take this opportunity to practice visualizing condfidence intervals in general. The following are some potential ways that you could visualize confidence intervals on your graph:\n",
        "  - [Matplotlib Error Bars](https://matplotlib.org/3.1.1/api/_as_gen/matplotlib.pyplot.errorbar.html)\n",
        "  - [Seaborn barplot with error bars](https://seaborn.pydata.org/generated/seaborn.barplot.html)\n",
        "  - [Vertical ines to show bounds of confidence interval](https://www.simplypsychology.org/confidence-interval.jpg)\n",
        "  - [Confidence Intervals on Box Plots](https://matplotlib.org/3.1.1/api/_as_gen/matplotlib.axes.Axes.boxplot.html)\n",
        "\n",
        "### 3) In your own words, summarize the difference between Bayesian and Frequentist statistics\n",
        "\n",
        "If you're unsure where to start, check out [this blog post of Bayes theorem with Python](https://dataconomy.com/2015/02/introduction-to-bayes-theorem-with-python/).\n",
        "\n"
      ]
    },
    {
      "cell_type": "code",
      "metadata": {
        "id": "PhuaVDGSoJW1",
        "colab_type": "code",
        "colab": {}
      },
      "source": [
        "# P(+|User) = 1 True Positive Rate\n",
        "\n",
        "# P(User) = 1/1000 Prior probability\n",
        "\n",
        "# P(+|Non-user) = False Positive rate = 8 %\n",
        "\n"
      ],
      "execution_count": 0,
      "outputs": []
    },
    {
      "cell_type": "code",
      "metadata": {
        "id": "z9C2GfXtaSbo",
        "colab_type": "code",
        "colab": {
          "base_uri": "https://localhost:8080/",
          "height": 33
        },
        "outputId": "66cafcff-8ff2-4dd2-8d1e-0a2432ceec02"
      },
      "source": [
        "# prob drunk prior = 1/1000\n",
        "\n",
        "# P(+|Non-User) = false_positive_rate  \n",
        "# P(user) = 1 True positive rate\n",
        "#--------------------------------------------------------\n",
        "# P(Non-User) = (1 - prob drunk prior)  = (1 - 1/1000) = 0.999\n",
        "\n",
        "# P(Non-user) + P(User) = 1+0 = 1\n",
        "\n",
        "prob_drunk_prior = 1/1000\n",
        "P_non_user = 1 - prob_drunk_prior\n",
        "true_positive_rate = 1\n",
        "false_positive_rate = 0.08\n",
        "\n",
        "posterior_probability = (true_positive_rate* prob_drunk_prior) / ((true_positive_rate * prob_drunk_prior) + (false_positive_rate * P_non_user))\n",
        "\n",
        "posterior_probability\n"
      ],
      "execution_count": 17,
      "outputs": [
        {
          "output_type": "execute_result",
          "data": {
            "text/plain": [
              "0.012357884330202669"
            ]
          },
          "metadata": {
            "tags": []
          },
          "execution_count": 17
        }
      ]
    },
    {
      "cell_type": "code",
      "metadata": {
        "id": "4s2dbyyyxuVl",
        "colab_type": "code",
        "colab": {}
      },
      "source": [
        "# What is the probability that a person is drunk after one positive breathalyzer test?\n",
        "1%"
      ],
      "execution_count": 0,
      "outputs": []
    },
    {
      "cell_type": "code",
      "metadata": {
        "id": "KkyNqQ_IuLec",
        "colab_type": "code",
        "colab": {
          "base_uri": "https://localhost:8080/",
          "height": 33
        },
        "outputId": "79443c2d-528a-4ac9-aa55-78f7864b527e"
      },
      "source": [
        "prob_drunk_prior = posterior_probability\n",
        "P_non_user = 1 - prob_drunk_prior\n",
        "\n",
        "posterior_probability = (true_positive_rate* prob_drunk_prior) / ((true_positive_rate * prob_drunk_prior) + (false_positive_rate * P_non_user))\n",
        "\n",
        "posterior_probability"
      ],
      "execution_count": 18,
      "outputs": [
        {
          "output_type": "execute_result",
          "data": {
            "text/plain": [
              "0.13525210993291495"
            ]
          },
          "metadata": {
            "tags": []
          },
          "execution_count": 18
        }
      ]
    },
    {
      "cell_type": "code",
      "metadata": {
        "id": "k_-ChtUDxh87",
        "colab_type": "code",
        "colab": {}
      },
      "source": [
        "# What is the probability that a person is drunk after two positive breathalyzer tests?\n",
        "# 14%"
      ],
      "execution_count": 0,
      "outputs": []
    },
    {
      "cell_type": "code",
      "metadata": {
        "id": "OzkCyvJwv5eY",
        "colab_type": "code",
        "colab": {
          "base_uri": "https://localhost:8080/",
          "height": 33
        },
        "outputId": "85f5f8b2-05fa-461b-83ae-665b5fab2240"
      },
      "source": [
        "prob_drunk_prior = posterior_probability\n",
        "P_non_user = 1 - prob_drunk_prior\n",
        "\n",
        "posterior_probability = (true_positive_rate* prob_drunk_prior) / ((true_positive_rate * prob_drunk_prior) + (false_positive_rate * P_non_user))\n",
        "\n",
        "posterior_probability"
      ],
      "execution_count": 19,
      "outputs": [
        {
          "output_type": "execute_result",
          "data": {
            "text/plain": [
              "0.6615996951348605"
            ]
          },
          "metadata": {
            "tags": []
          },
          "execution_count": 19
        }
      ]
    },
    {
      "cell_type": "code",
      "metadata": {
        "id": "sLG8CspwwGlV",
        "colab_type": "code",
        "colab": {
          "base_uri": "https://localhost:8080/",
          "height": 33
        },
        "outputId": "9d3f6608-07a0-4a46-a9d2-3266009b7082"
      },
      "source": [
        "prob_drunk_prior = posterior_probability\n",
        "P_non_user = 1 - prob_drunk_prior\n",
        "\n",
        "posterior_probability = (true_positive_rate* prob_drunk_prior) / ((true_positive_rate * prob_drunk_prior) + (false_positive_rate * P_non_user))\n",
        "\n",
        "posterior_probability"
      ],
      "execution_count": 20,
      "outputs": [
        {
          "output_type": "execute_result",
          "data": {
            "text/plain": [
              "0.9606895076105054"
            ]
          },
          "metadata": {
            "tags": []
          },
          "execution_count": 20
        }
      ]
    },
    {
      "cell_type": "code",
      "metadata": {
        "id": "PffVkttVwPTb",
        "colab_type": "code",
        "colab": {}
      },
      "source": [
        "# How many positive breathalyzer tests are needed in order to have a probability that's greater than 95% that a person is drunk beyond the legal limit?\n",
        "# 4 positive tests"
      ],
      "execution_count": 0,
      "outputs": []
    },
    {
      "cell_type": "code",
      "metadata": {
        "id": "Lexlvho0h4LT",
        "colab_type": "code",
        "colab": {}
      },
      "source": [
        ""
      ],
      "execution_count": 0,
      "outputs": []
    },
    {
      "cell_type": "code",
      "metadata": {
        "id": "xpVhZyUnbf7o",
        "colab_type": "code",
        "colab": {
          "base_uri": "https://localhost:8080/",
          "height": 33
        },
        "outputId": "b62ce2bd-de70-4990-be35-5a345bdabbb3"
      },
      "source": [
        "# prob drunk prior = 1/1000\n",
        "# false positive rate = 0.08\n",
        "# true positive rate = 100 = 1\n",
        "\n",
        "prob_drunk_prior = 1/1000\n",
        "false_positive_rate = 0.08\n",
        "true_positive_rate = 1\n",
        "def prob_drunk_given_positive(prob_drunk_prior, false_positive_rate, true_positive_rate):\n",
        "  return (true_positive_rate * prob_drunk_prior) / false_positive_rate\n",
        "prob_drunk_given_positive(1/1000, 0.08, 1)"
      ],
      "execution_count": 30,
      "outputs": [
        {
          "output_type": "execute_result",
          "data": {
            "text/plain": [
              "0.0125"
            ]
          },
          "metadata": {
            "tags": []
          },
          "execution_count": 30
        }
      ]
    },
    {
      "cell_type": "code",
      "metadata": {
        "id": "UDhCJZm4wyI7",
        "colab_type": "code",
        "colab": {
          "base_uri": "https://localhost:8080/",
          "height": 33
        },
        "outputId": "3d2edb2b-0b84-4bbc-f7cd-e82277681c07"
      },
      "source": [
        "prob_drunk_prior = 0.0125\n",
        "false_positive_rate = 0.08\n",
        "true_positive_rate = 1\n",
        "def prob_drunk_given_positive(prob_drunk_prior, false_positive_rate, true_positive_rate):\n",
        "  return (true_positive_rate * prob_drunk_prior) / false_positive_rate\n",
        "prob_drunk_given_positive(0.0125, 0.08, 1)"
      ],
      "execution_count": 31,
      "outputs": [
        {
          "output_type": "execute_result",
          "data": {
            "text/plain": [
              "0.15625"
            ]
          },
          "metadata": {
            "tags": []
          },
          "execution_count": 31
        }
      ]
    },
    {
      "cell_type": "code",
      "metadata": {
        "id": "x5Kz_1W7xNju",
        "colab_type": "code",
        "colab": {
          "base_uri": "https://localhost:8080/",
          "height": 33
        },
        "outputId": "27ce7a26-32c4-4b84-f383-d2d886cba185"
      },
      "source": [
        "prob_drunk_prior = 0.15625\n",
        "false_positive_rate = 0.08\n",
        "true_positive_rate = 1\n",
        "def prob_drunk_given_positive(prob_drunk_prior, false_positive_rate, true_positive_rate):\n",
        "  return (true_positive_rate * prob_drunk_prior) / false_positive_rate\n",
        "prob_drunk_given_positive(0.15625, 0.08, 1)"
      ],
      "execution_count": 32,
      "outputs": [
        {
          "output_type": "execute_result",
          "data": {
            "text/plain": [
              "1.953125"
            ]
          },
          "metadata": {
            "tags": []
          },
          "execution_count": 32
        }
      ]
    },
    {
      "cell_type": "code",
      "metadata": {
        "id": "9LDM9QlRCYxS",
        "colab_type": "code",
        "colab": {}
      },
      "source": [
        "# Bayesian and Frequentist statistics\n",
        "\n",
        "# Bayesian statistisc is based on conditional probability of an  event on datas.\n",
        "# Frquentist Statistic is based on hypothesis whether occurs or not and experiment \n",
        "# is repeated under the same conditions to get a result. "
      ],
      "execution_count": 0,
      "outputs": []
    },
    {
      "cell_type": "markdown",
      "metadata": {
        "id": "uWgWjp3PQ3Sq",
        "colab_type": "text"
      },
      "source": [
        "## Resources"
      ]
    },
    {
      "cell_type": "markdown",
      "metadata": {
        "id": "QRgHqmYIQ9qn",
        "colab_type": "text"
      },
      "source": [
        "- [Worked example of Bayes rule calculation](https://en.wikipedia.org/wiki/Bayes'_theorem#Examples) (helpful as it fully breaks out the denominator)\n",
        "- [Source code for mvsdist in scipy](https://github.com/scipy/scipy/blob/90534919e139d2a81c24bf08341734ff41a3db12/scipy/stats/morestats.py#L139)"
      ]
    },
    {
      "cell_type": "markdown",
      "metadata": {
        "id": "GP7Jv1XvwtkX",
        "colab_type": "text"
      },
      "source": [
        "## Stretch Goals:\n",
        "\n",
        "- Go back and study the content from Modules 1 & 2 to make sure that you're really comfortable with them.\n",
        "- Apply a Bayesian technique to a problem you previously worked (in an assignment or project work) on from a frequentist (standard) perspective\n",
        "- Check out [PyMC3](https://docs.pymc.io/) (note this goes beyond hypothesis tests into modeling) - read the guides and work through some examples\n",
        "- Take PyMC3 further - see if you can build something with it!"
      ]
    },
    {
      "cell_type": "code",
      "metadata": {
        "id": "iDi0eFr1x-v_",
        "colab_type": "code",
        "colab": {}
      },
      "source": [
        ""
      ],
      "execution_count": 0,
      "outputs": []
    }
  ]
}